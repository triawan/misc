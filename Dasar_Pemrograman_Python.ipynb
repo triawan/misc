{
  "cells": [
    {
      "cell_type": "markdown",
      "metadata": {
        "id": "1GZY_wf9oobV"
      },
      "source": [
        "# **Dokumentasi Belajar Dasar Pemrograman Python**\n",
        "###### Inspirasi dari beberapa sumber dan dikompilasi sendiri oleh **Triawan Adi Cahyanto**\n",
        "\n",
        "\n"
      ]
    },
    {
      "cell_type": "markdown",
      "metadata": {
        "id": "ad-K3KXoig1Z"
      },
      "source": [
        "# **Bab I Sintaks Dasar Python**"
      ]
    },
    {
      "cell_type": "markdown",
      "metadata": {
        "id": "prK2OrYph76n"
      },
      "source": [
        "**1.1 Cetak String**"
      ]
    },
    {
      "cell_type": "code",
      "execution_count": null,
      "metadata": {
        "colab": {
          "base_uri": "https://localhost:8080/"
        },
        "id": "B4DzehybOb2J",
        "outputId": "07be6c29-ff6b-4084-c35c-8a6ee4228bc7"
      },
      "outputs": [
        {
          "name": "stdout",
          "output_type": "stream",
          "text": [
            "Belajar Machine Learning untuk Time Series dengan Python\n"
          ]
        }
      ],
      "source": [
        "print('Belajar Machine Learning untuk Time Series dengan Python')"
      ]
    },
    {
      "cell_type": "markdown",
      "metadata": {
        "id": "6IL-vWtoh0eL"
      },
      "source": [
        "**1.2 Operasi Aritmatika**"
      ]
    },
    {
      "cell_type": "code",
      "execution_count": null,
      "metadata": {
        "colab": {
          "base_uri": "https://localhost:8080/"
        },
        "id": "DGhFJk6gO6PQ",
        "outputId": "e23437e9-5ae7-466e-917c-1439d2071719"
      },
      "outputs": [
        {
          "name": "stdout",
          "output_type": "stream",
          "text": [
            "10\n",
            "1\n",
            "72\n",
            "3.0\n"
          ]
        }
      ],
      "source": [
        "print(1+9)\n",
        "print(4-3)\n",
        "print(9*8)\n",
        "print(12/4)"
      ]
    },
    {
      "cell_type": "markdown",
      "metadata": {
        "id": "1ZH3WR8UiIV6"
      },
      "source": [
        "**1.3 Operasi Pangkat**"
      ]
    },
    {
      "cell_type": "code",
      "execution_count": null,
      "metadata": {
        "colab": {
          "base_uri": "https://localhost:8080/"
        },
        "id": "xJorLch5iHtO",
        "outputId": "d38cb702-9b73-4faa-c9a0-e72051e1aa95"
      },
      "outputs": [
        {
          "name": "stdout",
          "output_type": "stream",
          "text": [
            "16\n"
          ]
        }
      ],
      "source": [
        "print(4**2)"
      ]
    },
    {
      "cell_type": "markdown",
      "metadata": {
        "id": "QAhTgbQoiRfc"
      },
      "source": [
        "**1.4 Operasi Modulo**"
      ]
    },
    {
      "cell_type": "code",
      "execution_count": null,
      "metadata": {
        "colab": {
          "base_uri": "https://localhost:8080/"
        },
        "id": "mG_9mGMaiUl6",
        "outputId": "0ae8f7d8-fc69-4fbd-89fe-af2dd21810d9"
      },
      "outputs": [
        {
          "name": "stdout",
          "output_type": "stream",
          "text": [
            "2\n"
          ]
        }
      ],
      "source": [
        "print(20%3)"
      ]
    },
    {
      "cell_type": "markdown",
      "metadata": {
        "id": "JwAk7PiQibRx"
      },
      "source": [
        "# **Bab II Variabel dan Tipe Variabel**"
      ]
    },
    {
      "cell_type": "markdown",
      "metadata": {
        "id": "OLzYdJH2i07k"
      },
      "source": [
        "**2.1 Membuat Variabel**"
      ]
    },
    {
      "cell_type": "code",
      "execution_count": null,
      "metadata": {
        "colab": {
          "base_uri": "https://localhost:8080/"
        },
        "id": "sWiuE2eUi4n0",
        "outputId": "f35555cc-90d7-4cd6-824e-14d41985c5b4"
      },
      "outputs": [
        {
          "name": "stdout",
          "output_type": "stream",
          "text": [
            "100\n"
          ]
        }
      ],
      "source": [
        "simpanangka = 100\n",
        "print(simpanangka)"
      ]
    },
    {
      "cell_type": "markdown",
      "metadata": {
        "id": "Kd3haCL8i_6_"
      },
      "source": [
        "**2.2 Perhitungan dengan Variabel**"
      ]
    },
    {
      "cell_type": "code",
      "execution_count": null,
      "metadata": {
        "colab": {
          "base_uri": "https://localhost:8080/"
        },
        "id": "NwAJBw_QjDpU",
        "outputId": "c48f9826-b4e3-4cec-fc6f-9c41002999d1"
      },
      "outputs": [
        {
          "name": "stdout",
          "output_type": "stream",
          "text": [
            "Hasilnya: 4000000\n"
          ]
        }
      ],
      "source": [
        "angka2 = 200\n",
        "hasil = simpanangka * (angka2**2)\n",
        "print('Hasilnya: ' + str(hasil))"
      ]
    },
    {
      "cell_type": "markdown",
      "metadata": {
        "id": "ACp_e9hRjtBE"
      },
      "source": [
        "**2.3 Tipe Variabel Lain**"
      ]
    },
    {
      "cell_type": "code",
      "execution_count": null,
      "metadata": {
        "colab": {
          "base_uri": "https://localhost:8080/"
        },
        "id": "458rMFfxjwhM",
        "outputId": "32c2ec46-7d94-42a5-bfd6-15123cc9d467"
      },
      "outputs": [
        {
          "name": "stdout",
          "output_type": "stream",
          "text": [
            "<class 'float'>\n",
            "Internet of ThingsInternet of Things\n"
          ]
        }
      ],
      "source": [
        "deskripsi = \"Internet of Things\"\n",
        "potensional = True\n",
        "nilaiproduk = 100\n",
        "faktor = 1.1\n",
        "tahun1 = faktor * nilaiproduk\n",
        "print(type(tahun1))\n",
        "doubledeskripsi = deskripsi + deskripsi\n",
        "print(doubledeskripsi)"
      ]
    },
    {
      "cell_type": "markdown",
      "metadata": {
        "id": "rBRzxQ1QkcOn"
      },
      "source": [
        "**2.4 Konversi Tipe Variabel**"
      ]
    },
    {
      "cell_type": "code",
      "execution_count": null,
      "metadata": {
        "colab": {
          "base_uri": "https://localhost:8080/"
        },
        "id": "kEQH6hJjl_hS",
        "outputId": "d2eb8fef-583e-4085-eeb0-9d17548b20d1"
      },
      "outputs": [
        {
          "name": "stdout",
          "output_type": "stream",
          "text": [
            "Saya mulai menabung sejumlah 100 dan tabungan sekarang 194.87171000000012 Luar biasa...\n",
            "<class 'str'>\n",
            "<class 'float'>\n"
          ]
        }
      ],
      "source": [
        "tabungan = 100\n",
        "hasil = 100 * 1.10 ** 7\n",
        "\n",
        "print('Saya mulai menabung sejumlah ' + str(tabungan) + ' dan tabungan sekarang ' + str(hasil) + ' Luar biasa...')\n",
        "\n",
        "pi_string = '3.1415926'\n",
        "print(type(pi_string))\n",
        "\n",
        "pi_float = float(pi_string)\n",
        "\n",
        "print(type(pi_float))"
      ]
    },
    {
      "cell_type": "markdown",
      "metadata": {
        "id": "lyiedvQsqNp7"
      },
      "source": [
        "# **Bab III List**"
      ]
    },
    {
      "cell_type": "markdown",
      "metadata": {
        "id": "DDZdIAJ2qqpL"
      },
      "source": [
        "**3.1 Membuat List**"
      ]
    },
    {
      "cell_type": "code",
      "execution_count": null,
      "metadata": {
        "colab": {
          "base_uri": "https://localhost:8080/"
        },
        "id": "MYDwjnWbquH8",
        "outputId": "5dc8129e-3752-4954-b9fe-4d1ac22bc2b1"
      },
      "outputs": [
        {
          "name": "stdout",
          "output_type": "stream",
          "text": [
            "[10.84, 4.0, 12.67, 9.5]\n"
          ]
        }
      ],
      "source": [
        "# contoh variabel terkait ukuran dalam satuan m2\n",
        "teras = 10.84\n",
        "kamar = 4.0\n",
        "dapur = 12.67\n",
        "toilet = 9.50\n",
        "\n",
        "arearumah = [teras, kamar, dapur, toilet]\n",
        "\n",
        "print(arearumah)"
      ]
    },
    {
      "cell_type": "markdown",
      "metadata": {
        "id": "4j3-x-3GsOl8"
      },
      "source": [
        "**3.2 Membuat List dengan Tipe Variabel yang Berbeda**"
      ]
    },
    {
      "cell_type": "code",
      "execution_count": null,
      "metadata": {
        "colab": {
          "base_uri": "https://localhost:8080/"
        },
        "id": "haPNY0UfsV8o",
        "outputId": "83a12019-4705-4981-818f-f0fac3472af7"
      },
      "outputs": [
        {
          "name": "stdout",
          "output_type": "stream",
          "text": [
            "['Ukuranteras', 10.84, 'Ukurankamar', 4.0, 'Ukurandapur', 12.67, 'Ukurantoilet', 9.5]\n"
          ]
        }
      ],
      "source": [
        "teras = 10.84\n",
        "kamar = 4.0\n",
        "dapur = 12.67\n",
        "toilet = 9.50\n",
        "\n",
        "arearumah = ['Ukuranteras', teras,'Ukurankamar', kamar,'Ukurandapur', dapur,'Ukurantoilet',toilet]\n",
        "\n",
        "print(arearumah)"
      ]
    },
    {
      "cell_type": "markdown",
      "metadata": {
        "id": "g6Z6NP7_s3rQ"
      },
      "source": [
        "**3.3 List dari Suatu List**"
      ]
    },
    {
      "cell_type": "code",
      "execution_count": null,
      "metadata": {
        "colab": {
          "base_uri": "https://localhost:8080/"
        },
        "id": "bPTSmf62s_YO",
        "outputId": "1673a92a-44e1-48dc-e4d1-e403e8834a19"
      },
      "outputs": [
        {
          "name": "stdout",
          "output_type": "stream",
          "text": [
            "[['Ukuranteras', 10.84], ['Ukurankamar', 4.0], ['Ukurandapur', 12.67], ['Ukurantoilet', 9.5]]\n",
            "<class 'list'>\n"
          ]
        }
      ],
      "source": [
        "teras = 10.84\n",
        "kamar = 4.0\n",
        "dapur = 12.67\n",
        "toilet = 9.50\n",
        "\n",
        "rumah = [['Ukuranteras', teras],\n",
        "['Ukurankamar', kamar],\n",
        "['Ukurandapur', dapur],\n",
        "['Ukurantoilet',toilet]]\n",
        "\n",
        "print(rumah)\n",
        "\n",
        "print(type(rumah))"
      ]
    },
    {
      "cell_type": "markdown",
      "metadata": {
        "id": "8mbhWmcbudfH"
      },
      "source": [
        "**3.4 Subset List**"
      ]
    },
    {
      "cell_type": "code",
      "execution_count": null,
      "metadata": {
        "colab": {
          "base_uri": "https://localhost:8080/"
        },
        "id": "__0JzJ-9uiQQ",
        "outputId": "8134965f-c19f-481e-e0f4-b3a4629134e2"
      },
      "outputs": [
        {
          "name": "stdout",
          "output_type": "stream",
          "text": [
            "13.0\n",
            "4.0\n",
            "5.0\n"
          ]
        }
      ],
      "source": [
        "arearumah = ['Ukuranteras', 13.00,'Ukurankamar', 5.0,'Ukurandapur', 8.0,'Ukurantoilet', 4.0]\n",
        "\n",
        "print(arearumah[1])\n",
        "\n",
        "print(arearumah[-1])\n",
        "\n",
        "print(arearumah[3])"
      ]
    },
    {
      "cell_type": "markdown",
      "metadata": {
        "id": "JOaIAzwpwIV7"
      },
      "source": [
        "**3.5 Subset dan Operasi Subset**"
      ]
    },
    {
      "cell_type": "code",
      "execution_count": null,
      "metadata": {
        "colab": {
          "base_uri": "https://localhost:8080/"
        },
        "id": "NGV3w42gwOSK",
        "outputId": "4eaa44a9-1c9b-42b5-fe72-a5cc12d1b672"
      },
      "outputs": [
        {
          "name": "stdout",
          "output_type": "stream",
          "text": [
            "18.0\n",
            "4.0\n",
            "65.0\n",
            "1.6\n"
          ]
        }
      ],
      "source": [
        "arearumah = ['Ukuranteras', 13.00,'Ukurankamar', 5.0,'Ukurandapur', 8.0,'Ukurantoilet', 4.0]\n",
        "\n",
        "jumlahduaarea = arearumah[1] + arearumah[3]\n",
        "selisihduaarea = arearumah[5] - arearumah[7]\n",
        "perkalianduaarea = arearumah[1] * arearumah[3]\n",
        "pembagianduaarea = arearumah[5] / arearumah[3]\n",
        "\n",
        "print(jumlahduaarea)\n",
        "print(selisihduaarea)\n",
        "print(perkalianduaarea)\n",
        "print(pembagianduaarea)"
      ]
    },
    {
      "cell_type": "markdown",
      "metadata": {
        "id": "11OAIoHixZo7"
      },
      "source": [
        "**3.6 Slicing di dalam List**"
      ]
    },
    {
      "cell_type": "code",
      "execution_count": null,
      "metadata": {
        "colab": {
          "base_uri": "https://localhost:8080/"
        },
        "id": "jSQ8Br-SxeP9",
        "outputId": "ae09f890-6808-4efd-a69b-a8790120dbe9"
      },
      "outputs": [
        {
          "name": "stdout",
          "output_type": "stream",
          "text": [
            "['Ukuranteras', 13.0, 'Ukurankamar', 5.0]\n",
            "['Ukurandapur', 8.0, 'Ukurantoilet', 4.0]\n",
            "['Ukuranteras', 13.0, 'Ukurankamar', 5.0, 'Ukurandapur', 8.0]\n",
            "['Ukurantoilet', 4.0]\n"
          ]
        }
      ],
      "source": [
        "arearumah = ['Ukuranteras', 13.00,'Ukurankamar', 5.0,'Ukurandapur', 8.0,'Ukurantoilet', 4.0]\n",
        "\n",
        "areadepan = arearumah[0:4]\n",
        "ruangdepan = arearumah[:6]\n",
        "\n",
        "areabelakang = arearumah[4:8]\n",
        "ruangbelakang = arearumah[6:]\n",
        "\n",
        "print(areadepan)\n",
        "print(areabelakang) \n",
        "print(ruangdepan)\n",
        "print(ruangbelakang)"
      ]
    },
    {
      "cell_type": "markdown",
      "metadata": {
        "id": "a0Y1E-AfzLfm"
      },
      "source": [
        "**3.7 Mengganti Elemen di dalam List**"
      ]
    },
    {
      "cell_type": "code",
      "execution_count": null,
      "metadata": {
        "colab": {
          "base_uri": "https://localhost:8080/"
        },
        "id": "1BpeOwNyzkGe",
        "outputId": "7489753f-a694-4ca1-d250-3f0caacc3e5c"
      },
      "outputs": [
        {
          "name": "stdout",
          "output_type": "stream",
          "text": [
            "['Ukuranteras', 13.0, 'TempatIbadah', 5.0, 'Ukurandapur', 9.0, 'Ukurantoilet', 4.0]\n"
          ]
        }
      ],
      "source": [
        "arearumah = ['Ukuranteras', 13.00,'Ukurankamar', 5.0,'Ukurandapur', 8.0,'Ukurantoilet', 4.0]\n",
        "\n",
        "arearumah[-3] = 9.0\n",
        "\n",
        "arearumah[2] = 'TempatIbadah'\n",
        "\n",
        "print(arearumah)"
      ]
    },
    {
      "cell_type": "markdown",
      "metadata": {
        "id": "AxvymYhEP02n"
      },
      "source": [
        "**3.8 Ekstensi List**"
      ]
    },
    {
      "cell_type": "code",
      "execution_count": null,
      "metadata": {
        "colab": {
          "base_uri": "https://localhost:8080/"
        },
        "id": "GxjvljC-P3uQ",
        "outputId": "5af93a53-2c87-42e1-9b54-65d563e11a67"
      },
      "outputs": [
        {
          "name": "stdout",
          "output_type": "stream",
          "text": [
            "['Ukuranteras', 13.0, 'Ukurankamar', 5.0, 'Ukurandapur', 8.0, 'Ukurantoilet', 4.0]\n",
            "['Ukuranteras', 13.0, 'Ukurankamar', 5.0, 'Ukurandapur', 8.0, 'Ukurantoilet', 4.0, 'MejaBelajar', 6.0]\n",
            "['Ukuranteras', 13.0, 'Ukurankamar', 5.0, 'Ukurandapur', 8.0, 'Ukurantoilet', 4.0, 'MejaBelajar', 6.0, 'TempatIbadah', 5.5]\n"
          ]
        }
      ],
      "source": [
        "arearumah = ['Ukuranteras', 13.00,'Ukurankamar', 5.0,'Ukurandapur', 8.0,'Ukurantoilet', 4.0]\n",
        "\n",
        "arearumah1 = arearumah + ['MejaBelajar', 6.0]\n",
        "\n",
        "arearumah2 = arearumah1 + ['TempatIbadah', 5.5]\n",
        "\n",
        "print(arearumah)\n",
        "print(arearumah1)\n",
        "print(arearumah2)"
      ]
    },
    {
      "cell_type": "markdown",
      "metadata": {
        "id": "XlZoOtj5QV57"
      },
      "source": [
        "**3.9 Manipulasi List**"
      ]
    },
    {
      "cell_type": "code",
      "execution_count": null,
      "metadata": {
        "colab": {
          "base_uri": "https://localhost:8080/"
        },
        "id": "7shpRev5QYwV",
        "outputId": "106dddfc-5e7c-4a09-deda-98e13948cb16"
      },
      "outputs": [
        {
          "name": "stdout",
          "output_type": "stream",
          "text": [
            "[12.75, 19.43, 11.11, 59.0, 100]\n",
            "[5.0, 19.43, 11.11, 59.0, 100]\n"
          ]
        }
      ],
      "source": [
        "luasarea = [12.75, 19.43, 11.11, 59.0, 100]\n",
        "\n",
        "luasarea_copy = luasarea[:]\n",
        "\n",
        "luasarea_copy[0] = 5.0\n",
        "\n",
        "print(luasarea)\n",
        "print(luasarea_copy)"
      ]
    },
    {
      "cell_type": "markdown",
      "metadata": {
        "id": "0f5R_lejRB4L"
      },
      "source": [
        "# **Bab IV Dictionaries**"
      ]
    },
    {
      "cell_type": "markdown",
      "metadata": {
        "id": "JZBEyazmRJSK"
      },
      "source": [
        "**4.1 Membuat Dictionary**"
      ]
    },
    {
      "cell_type": "code",
      "execution_count": null,
      "metadata": {
        "colab": {
          "base_uri": "https://localhost:8080/"
        },
        "id": "lBNcBtfbRPR4",
        "outputId": "510bac19-2ce0-4262-f0da-faac729aae44"
      },
      "outputs": [
        {
          "name": "stdout",
          "output_type": "stream",
          "text": [
            "{'FMIPA': 'ilkom', 'Fahutan': 'silvikultur', 'Fateta': 'teknik pertanian', 'FEM': 'agribisnis'}\n"
          ]
        }
      ],
      "source": [
        "fakultas = ['FMIPA','Fahutan', 'Fateta', 'FEM']\n",
        "departemen = ['ilkom', 'silvikultur', 'teknik pertanian', 'agribisnis']\n",
        "\n",
        "ipb = {'FMIPA':'ilkom', 'Fahutan':'silvikultur','Fateta':'teknik pertanian', 'FEM':'agribisnis'}\n",
        "\n",
        "print(ipb)\n"
      ]
    },
    {
      "cell_type": "markdown",
      "metadata": {
        "id": "gJNWZ3GHS7Z7"
      },
      "source": [
        "**4.2 Akses Dictionary**"
      ]
    },
    {
      "cell_type": "code",
      "execution_count": null,
      "metadata": {
        "colab": {
          "base_uri": "https://localhost:8080/"
        },
        "id": "kCKGBruOS-pp",
        "outputId": "636723f6-c7df-4cf5-8e9e-6f8ddeb5d97a"
      },
      "outputs": [
        {
          "name": "stdout",
          "output_type": "stream",
          "text": [
            "dict_keys(['FMIPA', 'Fahutan', 'Fateta', 'FEM'])\n",
            "ilkom\n"
          ]
        }
      ],
      "source": [
        "ipb = {'FMIPA':'ilkom', 'Fahutan':'silvikultur','Fateta':'teknik pertanian', 'FEM':'agribisnis'}\n",
        "\n",
        "print(ipb.keys())\n",
        "\n",
        "print(ipb['FMIPA'])"
      ]
    },
    {
      "cell_type": "markdown",
      "metadata": {
        "id": "V9wPSfzpTbbb"
      },
      "source": [
        "**4.3 Manipulasi Dictionary**"
      ]
    },
    {
      "cell_type": "code",
      "execution_count": null,
      "metadata": {
        "colab": {
          "base_uri": "https://localhost:8080/"
        },
        "id": "apF3pcYlTfGo",
        "outputId": "ec41e85a-28f0-41a2-c5fa-73e6c41dd4ad"
      },
      "outputs": [
        {
          "name": "stdout",
          "output_type": "stream",
          "text": [
            "True\n",
            "{'FMIPA': 'ilkom', 'Fahutan': 'silvikultur', 'Fateta': 'teknik pertanian', 'FEM': 'agribisnis', 'Fema': 'ilmu gizi', 'SB': 'bisnis'}\n",
            "{'FMIPA': 'ilkom', 'Fahutan': 'silvikultur', 'Fateta': 'teknik pertanian dan biogas', 'FEM': 'agribisnis', 'SB': 'bisnis'}\n"
          ]
        }
      ],
      "source": [
        "ipb = {'FMIPA':'ilkom', 'Fahutan':'silvikultur','Fateta':'teknik pertanian', 'FEM':'agribisnis'}\n",
        "\n",
        "ipb['Fema'] = 'ilmu gizi'\n",
        "\n",
        "print('Fema' in ipb)\n",
        "\n",
        "ipb['SB'] = 'bisnis'\n",
        "\n",
        "print(ipb)\n",
        "\n",
        "ipb.update({'Fateta':'teknik pertanian dan biogas'})\n",
        "\n",
        "del(ipb['Fema'])\n",
        "\n",
        "print(ipb)\n"
      ]
    },
    {
      "cell_type": "markdown",
      "metadata": {
        "id": "EoeDWDlBe_mN"
      },
      "source": [
        "**4.4 Dictionaryception**"
      ]
    },
    {
      "cell_type": "code",
      "execution_count": null,
      "metadata": {
        "colab": {
          "base_uri": "https://localhost:8080/"
        },
        "id": "rkzPkDfufDix",
        "outputId": "53210874-7901-4d95-b62c-54b1ff066547"
      },
      "outputs": [
        {
          "name": "stdout",
          "output_type": "stream",
          "text": [
            "ilkom\n",
            "200\n",
            "{'FMIPA': {'departemen': 'ilkom', 'jumlahmahasiswa': '200'}, 'Fahutan': {'departemen': 'silvikultur', 'jumlahmahasiswa': '180'}, 'Fateta': {'departemen': 'teknik pertanian', 'jumlahmahasiswa': '190'}, 'FEM': {'departemen': 'agribisnis', 'jumlahmahasiswa': '170'}, 'FEMA': {'departemen': 'ilmu gizi', 'jumlahmahasiswa': '160'}}\n"
          ]
        }
      ],
      "source": [
        "ipb = {'FMIPA': {'departemen':'ilkom', 'jumlahmahasiswa':'200'},\n",
        "       'Fahutan': {'departemen':'silvikultur', 'jumlahmahasiswa':'180'},\n",
        "       'Fateta': {'departemen':'teknik pertanian', 'jumlahmahasiswa':'190'},\n",
        "       'FEM': {'departemen':'agribisnis', 'jumlahmahasiswa':'170'}}\n",
        "\n",
        "print(ipb['FMIPA']['departemen'])\n",
        "print(ipb['FMIPA']['jumlahmahasiswa'])\n",
        "\n",
        "tambahdata = {'departemen':'ilmu gizi', 'jumlahmahasiswa':'160' }\n",
        "\n",
        "ipb.update({'FEMA':tambahdata})\n",
        "\n",
        "print(ipb)"
      ]
    },
    {
      "cell_type": "markdown",
      "metadata": {
        "id": "PB795cWoZcg2"
      },
      "source": [
        "# **Bab V Tuple**"
      ]
    },
    {
      "cell_type": "markdown",
      "metadata": {
        "id": "Z3hUwepZZt-7"
      },
      "source": [
        "**5.1 Membuat Tuple**"
      ]
    },
    {
      "cell_type": "code",
      "execution_count": null,
      "metadata": {
        "colab": {
          "base_uri": "https://localhost:8080/"
        },
        "id": "fqoitCk9bR-g",
        "outputId": "8cee0f83-d8b6-4add-8ff7-f111917bf61e"
      },
      "outputs": [
        {
          "name": "stdout",
          "output_type": "stream",
          "text": [
            "1000\n",
            "1.0\n",
            "True\n",
            "IPB University\n"
          ]
        }
      ],
      "source": [
        "contoh_tuple = (1000, 1.000, True, 'IPB University')\n",
        "bilanganbulat, bilanganpecahan, bolean, string = contoh_tuple\n",
        "print(bilanganbulat)\n",
        "print(bilanganpecahan)\n",
        "print(bolean)\n",
        "print(string)"
      ]
    },
    {
      "cell_type": "markdown",
      "metadata": {
        "id": "1i_BWPo-gEH1"
      },
      "source": [
        "# **Bab VI Set**"
      ]
    },
    {
      "cell_type": "markdown",
      "metadata": {
        "id": "7VI0g1JhgKoP"
      },
      "source": [
        "**6.1 Membuat Set**"
      ]
    },
    {
      "cell_type": "code",
      "execution_count": null,
      "metadata": {
        "colab": {
          "base_uri": "https://localhost:8080/"
        },
        "id": "0uHTkas8hcsH",
        "outputId": "f2940429-5a26-4bf8-cc0c-a7b0f2d96e60"
      },
      "outputs": [
        {
          "name": "stdout",
          "output_type": "stream",
          "text": [
            "{100, 1000, 200, 10, 300, 10000, 400}\n"
          ]
        }
      ],
      "source": [
        "angka = {1000,1000,10000,10,100,200,300,400}\n",
        "print(angka)"
      ]
    },
    {
      "cell_type": "markdown",
      "metadata": {
        "id": "Kbznj-e1vNkL"
      },
      "source": [
        "# **Bab VII If Else Looping**"
      ]
    },
    {
      "cell_type": "markdown",
      "metadata": {
        "id": "WMTArh8pvrB9"
      },
      "source": [
        "**7.1 Membuat Kondisional dengan If**"
      ]
    },
    {
      "cell_type": "code",
      "execution_count": null,
      "metadata": {
        "colab": {
          "base_uri": "https://localhost:8080/"
        },
        "id": "nGmhSCG6vw-9",
        "outputId": "047a6a51-2b66-49c0-baa2-9530e07f716b"
      },
      "outputs": [
        {
          "name": "stdout",
          "output_type": "stream",
          "text": [
            "Harganya Mahal\n",
            "Harga Odadingnya: 7000\n"
          ]
        }
      ],
      "source": [
        "harga = 7000\n",
        "if harga>= 5000:\n",
        "  print('Harganya Mahal')\n",
        "print('Harga Odadingnya:',harga)"
      ]
    },
    {
      "cell_type": "markdown",
      "metadata": {
        "id": "S1gTkt3EwQQj"
      },
      "source": [
        "**7.2 Membuat Kondisional dengan If Else Elif**"
      ]
    },
    {
      "cell_type": "code",
      "execution_count": null,
      "metadata": {
        "colab": {
          "base_uri": "https://localhost:8080/"
        },
        "id": "nL7nJbMLwUMl",
        "outputId": "75dadfb6-c50c-4967-fe1e-501bb24ecf0d"
      },
      "outputs": [
        {
          "name": "stdout",
          "output_type": "stream",
          "text": [
            "Harganya Standar\n",
            "Harga Odadingnya: 4000\n"
          ]
        }
      ],
      "source": [
        "harga = 4000\n",
        "if harga>= 5000:\n",
        "  print('Harganya Mahal')\n",
        "elif harga>=3000:\n",
        "  print('Harganya Standar')\n",
        "else:\n",
        "  print('Harganya Murah')\n",
        "print('Harga Odadingnya:',harga)"
      ]
    },
    {
      "cell_type": "markdown",
      "metadata": {
        "id": "g47tt9Arw47_"
      },
      "source": [
        "**7.3 Membuat Looping dengan While**"
      ]
    },
    {
      "cell_type": "code",
      "execution_count": null,
      "metadata": {
        "colab": {
          "base_uri": "https://localhost:8080/"
        },
        "id": "t5X0FYxc0nvT",
        "outputId": "6b3de8b0-3224-49b4-fac8-b714b382ad08"
      },
      "outputs": [
        {
          "name": "stdout",
          "output_type": "stream",
          "text": [
            "0\n",
            "1\n",
            "2\n",
            "3\n",
            "4\n",
            "5\n",
            "6\n",
            "7\n",
            "8\n",
            "9\n",
            "10\n",
            "11\n",
            "12\n",
            "13\n",
            "14\n",
            "15\n"
          ]
        }
      ],
      "source": [
        "angka = 0\n",
        "while angka <= 15:\n",
        "  print(angka)\n",
        "  angka += 1"
      ]
    },
    {
      "cell_type": "markdown",
      "metadata": {
        "id": "MRB8VBYLxAd5"
      },
      "source": [
        "**7.4 Membuat Looping dengan For**"
      ]
    },
    {
      "cell_type": "code",
      "execution_count": null,
      "metadata": {
        "colab": {
          "base_uri": "https://localhost:8080/"
        },
        "id": "9IfU9vf_1GnT",
        "outputId": "dfdb5f8a-9d8d-4534-c29c-41921ad49d57"
      },
      "outputs": [
        {
          "name": "stdout",
          "output_type": "stream",
          "text": [
            "0\n",
            "1\n",
            "2\n",
            "3\n",
            "4\n",
            "5\n",
            "6\n",
            "7\n",
            "8\n",
            "9\n",
            "10\n"
          ]
        }
      ],
      "source": [
        "angka = [0,1,2,3,4,5,6,7,8,9,10]\n",
        "for i in angka:\n",
        "  print(i)\n"
      ]
    },
    {
      "cell_type": "code",
      "execution_count": null,
      "metadata": {
        "colab": {
          "base_uri": "https://localhost:8080/"
        },
        "id": "ZGQNWRYb1lkE",
        "outputId": "68e92fe1-402b-4678-b551-7f6ece2c4801"
      },
      "outputs": [
        {
          "name": "stdout",
          "output_type": "stream",
          "text": [
            "0\n",
            "1\n",
            "2\n",
            "3\n",
            "4\n"
          ]
        }
      ],
      "source": [
        "for i in range(5):\n",
        "  print(i)"
      ]
    },
    {
      "cell_type": "code",
      "execution_count": null,
      "metadata": {
        "colab": {
          "base_uri": "https://localhost:8080/"
        },
        "id": "aZNhzgxq1w3Y",
        "outputId": "bf4d410f-8761-492e-e032-9efd31ede9c2"
      },
      "outputs": [
        {
          "name": "stdout",
          "output_type": "stream",
          "text": [
            "0\n",
            "1\n",
            "2\n",
            "3\n",
            "4\n",
            "6\n",
            "7\n",
            "8\n",
            "9\n",
            "10\n"
          ]
        }
      ],
      "source": [
        "for i in angka:\n",
        "  if(i == 5):\n",
        "    continue\n",
        "  print(i)"
      ]
    },
    {
      "cell_type": "code",
      "execution_count": null,
      "metadata": {
        "colab": {
          "base_uri": "https://localhost:8080/"
        },
        "id": "N-HwOF3Q1-PR",
        "outputId": "542f1856-75f4-4dd6-da82-ed6ebb2de7b1"
      },
      "outputs": [
        {
          "name": "stdout",
          "output_type": "stream",
          "text": [
            "0\n",
            "1\n",
            "2\n",
            "3\n"
          ]
        }
      ],
      "source": [
        "for i in angka:\n",
        "  if (i == 4):\n",
        "    break\n",
        "  print(i)"
      ]
    },
    {
      "cell_type": "markdown",
      "metadata": {
        "id": "txpZLY_xhS_6"
      },
      "source": [
        "# **Bab VII Fungsi**"
      ]
    },
    {
      "cell_type": "markdown",
      "metadata": {
        "id": "Qi6i3y58hWuV"
      },
      "source": [
        "**7.1 Membuat Fungsi**"
      ]
    },
    {
      "cell_type": "code",
      "execution_count": null,
      "metadata": {
        "colab": {
          "base_uri": "https://localhost:8080/"
        },
        "id": "337cLtIIhadn",
        "outputId": "b05ee83b-200d-41d1-c947-6a4b0d036ae7"
      },
      "outputs": [
        {
          "name": "stdout",
          "output_type": "stream",
          "text": [
            "<class 'list'>\n",
            "5\n",
            "1\n",
            "<class 'bool'>\n"
          ]
        }
      ],
      "source": [
        "var1 = [10,11,12,13,14]\n",
        "var2 = True\n",
        "\n",
        "print(type(var1))\n",
        "\n",
        "print(len(var1))\n",
        "\n",
        "ubahint = int(var2)\n",
        "print(ubahint)\n",
        "print(type(var2))"
      ]
    },
    {
      "cell_type": "markdown",
      "metadata": {
        "id": "2GqUUzQtisLE"
      },
      "source": [
        "**7.2 *Multiple* Argumen**"
      ]
    },
    {
      "cell_type": "code",
      "execution_count": null,
      "metadata": {
        "colab": {
          "base_uri": "https://localhost:8080/"
        },
        "id": "fHw3A2Bui5gO",
        "outputId": "95ffce97-a613-4366-f4ce-6a40ac989ac8"
      },
      "outputs": [
        {
          "name": "stdout",
          "output_type": "stream",
          "text": [
            "[100, 200, 300, 400, 500, 10, 20]\n",
            "[500, 400, 300, 200, 100, 20, 10]\n"
          ]
        }
      ],
      "source": [
        "nilai1 = [100,200,300,400,500]\n",
        "nilai2 = [10,20]\n",
        "\n",
        "gabungan = nilai1 + nilai2\n",
        "print(gabungan)\n",
        "\n",
        "gabungansort = sorted(gabungan, reverse=True)\n",
        "print(gabungansort)"
      ]
    },
    {
      "cell_type": "markdown",
      "metadata": {
        "id": "6rssP3VqjZLV"
      },
      "source": [
        "**7.3 Membuat Fungsi Sederhana**"
      ]
    },
    {
      "cell_type": "code",
      "execution_count": null,
      "metadata": {
        "colab": {
          "base_uri": "https://localhost:8080/"
        },
        "id": "c4EIpe9pjcGl",
        "outputId": "a4cc58be-86e5-4674-cac2-a0aae2f90ecd"
      },
      "outputs": [
        {
          "name": "stdout",
          "output_type": "stream",
          "text": [
            "semangaaatttttttt!!!\n"
          ]
        }
      ],
      "source": [
        "def hello(word):\n",
        "  kata = word + \"!!!\"\n",
        "  return kata\n",
        "\n",
        "teriak = hello('semangaaatttttttt')\n",
        "print(teriak)"
      ]
    },
    {
      "cell_type": "markdown",
      "metadata": {
        "id": "3Iy91nMOj7pA"
      },
      "source": [
        "**7.4 Fungsi dengan *Multiple* Parameter**"
      ]
    },
    {
      "cell_type": "code",
      "execution_count": null,
      "metadata": {
        "colab": {
          "base_uri": "https://localhost:8080/"
        },
        "id": "rXaJPya4j_lx",
        "outputId": "5f0698e4-50b8-467a-835e-6be3af673bf7"
      },
      "outputs": [
        {
          "name": "stdout",
          "output_type": "stream",
          "text": [
            "belajar !!! pythonnnn !!!\n"
          ]
        }
      ],
      "source": [
        "def hello(word1, word2):\n",
        "  kata1 = word1 + \" !!!\"\n",
        "  kata2 = word2 + \" !!!\"\n",
        "  gabungankata = kata1 + kata2\n",
        "  return(gabungankata)\n",
        "\n",
        "teriak = hello('belajar', ' pythonnnn')\n",
        "print(teriak)"
      ]
    },
    {
      "cell_type": "markdown",
      "metadata": {
        "id": "VBlUILaOrS37"
      },
      "source": [
        "# **Bab VIII Methods**"
      ]
    },
    {
      "cell_type": "markdown",
      "metadata": {
        "id": "Pp21B8yNrXTi"
      },
      "source": [
        "**8.1 Beberapa *method* dalam string**"
      ]
    },
    {
      "cell_type": "code",
      "execution_count": null,
      "metadata": {
        "colab": {
          "base_uri": "https://localhost:8080/"
        },
        "id": "GRJq4S6mrdkU",
        "outputId": "144143e8-c66c-43e7-d5db-2aefff5a80df"
      },
      "outputs": [
        {
          "name": "stdout",
          "output_type": "stream",
          "text": [
            "ipb university\n",
            "IPB UNIVERSITY\n",
            "3\n"
          ]
        }
      ],
      "source": [
        "kampus = 'ipb university'\n",
        "\n",
        "kampus_up = kampus.upper()\n",
        "\n",
        "print(kampus)\n",
        "print(kampus_up)\n",
        "\n",
        "print(kampus.count('i'))"
      ]
    },
    {
      "cell_type": "markdown",
      "metadata": {
        "id": "c5uYhHkMta7v"
      },
      "source": [
        "**8.2 Method di dalam List**"
      ]
    },
    {
      "cell_type": "code",
      "execution_count": null,
      "metadata": {
        "colab": {
          "base_uri": "https://localhost:8080/"
        },
        "id": "Yf8OoZSutetS",
        "outputId": "39f25a5e-0f4f-4e7d-cebb-26676aef3d5e"
      },
      "outputs": [
        {
          "name": "stdout",
          "output_type": "stream",
          "text": [
            "2\n",
            "0\n",
            "[12, 13, 14, 15, 16, 18, 20]\n",
            "[20, 18, 16, 15, 14, 13, 12]\n"
          ]
        }
      ],
      "source": [
        "luasarea = [12,13,14,15,16]\n",
        "\n",
        "print(luasarea.index(14))\n",
        "print(luasarea.count(100))\n",
        "\n",
        "luasarea.append(18)\n",
        "luasarea.append(20)\n",
        "print(luasarea)\n",
        "\n",
        "luasarea.reverse()\n",
        "print(luasarea)"
      ]
    },
    {
      "cell_type": "markdown",
      "metadata": {
        "id": "Mgqw4hqhuK15"
      },
      "source": [
        "# **Bab IX Packages**"
      ]
    },
    {
      "cell_type": "markdown",
      "metadata": {
        "id": "ZUkexubuuOc5"
      },
      "source": [
        "**9.1 Impor Package**"
      ]
    },
    {
      "cell_type": "code",
      "execution_count": null,
      "metadata": {
        "colab": {
          "base_uri": "https://localhost:8080/"
        },
        "id": "OUL7RpmNuV8D",
        "outputId": "aa384445-ad79-4f37-ab79-7f358d8a7ead"
      },
      "outputs": [
        {
          "name": "stdout",
          "output_type": "stream",
          "text": [
            "Hasil pertama: 6.157521601035994\n",
            "Hasil kedua: 3.017185584507637\n"
          ]
        }
      ],
      "source": [
        "angka = 0.98\n",
        "\n",
        "import math\n",
        "\n",
        "hasil1 = 2 * math.pi * angka\n",
        "\n",
        "hasil2 = math.pi * angka**2\n",
        "\n",
        "print('Hasil pertama: ' + str(hasil1))\n",
        "print('Hasil kedua: ' +str(hasil2))"
      ]
    },
    {
      "cell_type": "markdown",
      "metadata": {
        "id": "rcMrG9A7vBOg"
      },
      "source": [
        "**9.2 Cara Lain Impor Package**"
      ]
    },
    {
      "cell_type": "code",
      "execution_count": null,
      "metadata": {
        "colab": {
          "base_uri": "https://localhost:8080/"
        },
        "id": "MozsiyRxvEp5",
        "outputId": "fe75c759-8e60-4c81-ef7f-95a1e305a5b4"
      },
      "outputs": [
        {
          "name": "stdout",
          "output_type": "stream",
          "text": [
            "37.69911184307752\n"
          ]
        }
      ],
      "source": [
        "angka = 12\n",
        "\n",
        "from math import radians\n",
        "\n",
        "hasil = angka * radians(180)\n",
        "\n",
        "print(hasil)"
      ]
    },
    {
      "cell_type": "markdown",
      "metadata": {
        "id": "VGB-_EJ2v7ZG"
      },
      "source": [
        "# **Bab X Numpy**\n"
      ]
    },
    {
      "cell_type": "markdown",
      "metadata": {
        "id": "crUj4beHv_kJ"
      },
      "source": [
        "**10.1 Numpy Array**"
      ]
    },
    {
      "cell_type": "code",
      "execution_count": null,
      "metadata": {
        "id": "HglNe517wDBt"
      },
      "outputs": [],
      "source": []
    },
    {
      "cell_type": "markdown",
      "metadata": {
        "id": "vuvcMCY68Bny"
      },
      "source": [
        "# **Bab XI Pandas**"
      ]
    },
    {
      "cell_type": "markdown",
      "metadata": {
        "id": "whO59ZN6B1I1"
      },
      "source": [
        "**11.1 Struktur Data Series**"
      ]
    },
    {
      "cell_type": "code",
      "execution_count": null,
      "metadata": {
        "id": "DLhgCxtkB8dF"
      },
      "outputs": [],
      "source": []
    },
    {
      "cell_type": "markdown",
      "metadata": {
        "id": "kkETdVGl8OUf"
      },
      "source": [
        "# **Bab XII Matplotlib**"
      ]
    },
    {
      "cell_type": "markdown",
      "metadata": {
        "id": "wSr9SuBM8cvC"
      },
      "source": [
        "# **Bab XIII Scikit-Learn**"
      ]
    },
    {
      "cell_type": "markdown",
      "metadata": {
        "id": "uIBi4CJXvPJI"
      },
      "source": [
        "# **Referensi**"
      ]
    },
    {
      "cell_type": "markdown",
      "metadata": {
        "id": "gPC_EqEevXeC"
      },
      "source": [
        "1. https://jakevdp.github.io/PythonDataScienceHandbook/\n",
        "2. https://automatetheboringstuff.com/\n",
        "3. http://do1.dr-chuck.com/pythonlearn/EN_us/pythonlearn.pdf\n",
        "4. https://greenteapress.com/thinkpython/thinkCSpy/thinkCSpy.pdf\n",
        "5. https://www.w3schools.com/python/default.asp"
      ]
    }
  ],
  "metadata": {
    "colab": {
      "name": "Dasar Pemrograman Python.ipynb",
      "provenance": [],
      "toc_visible": true
    },
    "kernelspec": {
      "display_name": "Python 3.10.5 ('venv': venv)",
      "language": "python",
      "name": "python3"
    },
    "language_info": {
      "codemirror_mode": {
        "name": "ipython",
        "version": 3
      },
      "file_extension": ".py",
      "mimetype": "text/x-python",
      "name": "python",
      "nbconvert_exporter": "python",
      "pygments_lexer": "ipython3",
      "version": "3.10.5"
    },
    "vscode": {
      "interpreter": {
        "hash": "8ad2652848c7810ca778e310c65c1b798580f80007b377ba99a88c2e6e3d79f9"
      }
    }
  },
  "nbformat": 4,
  "nbformat_minor": 0
}
