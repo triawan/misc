{
  "cells": [
    {
      "cell_type": "markdown",
      "metadata": {
        "id": "TRbw8YSRdKwZ"
      },
      "source": [
        "# Menjalankan *python* dan *mongodb* di *Google Colab*\n",
        "\n",
        "Disusun oleh:\n",
        "*   Pak Ruhul \n",
        "*   Pak Sopian\n",
        "*   Pak Triawan"
      ]
    },
    {
      "cell_type": "markdown",
      "metadata": {
        "id": "3vGnzf3DqVc8"
      },
      "source": [
        "# 1. Instalasi mongodb"
      ]
    },
    {
      "cell_type": "code",
      "execution_count": 2,
      "metadata": {
        "colab": {
          "base_uri": "https://localhost:8080/"
        },
        "id": "eWk1hsucciBp",
        "outputId": "b13fe91c-abf0-49c0-8af8-663071a505ad"
      },
      "outputs": [
        {
          "output_type": "stream",
          "name": "stdout",
          "text": [
            "Looking in indexes: https://pypi.org/simple, https://us-python.pkg.dev/colab-wheels/public/simple/\n",
            "Requirement already satisfied: pymongo in /usr/local/lib/python3.7/dist-packages (4.2.0)\n"
          ]
        }
      ],
      "source": [
        "# install pymongo\n",
        "!python -m pip install pymongo"
      ]
    },
    {
      "cell_type": "code",
      "execution_count": 3,
      "metadata": {
        "colab": {
          "base_uri": "https://localhost:8080/"
        },
        "id": "qmLo5uyseOUv",
        "outputId": "d62a5755-6ace-4e4d-8f79-9d5d35564b0b"
      },
      "outputs": [
        {
          "output_type": "stream",
          "name": "stdout",
          "text": [
            "\n",
            "WARNING: apt does not have a stable CLI interface. Use with caution in scripts.\n",
            "\n",
            " * Starting database mongodb\n",
            "   ...done.\n"
          ]
        }
      ],
      "source": [
        "# install mongodb\n",
        "!apt install mongodb >log\n",
        "!service mongodb start"
      ]
    },
    {
      "cell_type": "code",
      "execution_count": null,
      "metadata": {
        "colab": {
          "background_save": true,
          "base_uri": "https://localhost:8080/"
        },
        "id": "yuLWNKHZtKKc",
        "outputId": "9d4ab9c2-cb44-4b09-9631-4499c84ab26c"
      },
      "outputs": [
        {
          "name": "stdout",
          "output_type": "stream",
          "text": [
            "MongoDB shell version v3.6.3\n",
            "connecting to: mongodb://127.0.0.1:27017\n",
            "MongoDB server version: 3.6.3\n",
            "Server has startup warnings: \n",
            "2022-07-31T02:48:26.218+0000 I CONTROL  [initandlisten] \n",
            "2022-07-31T02:48:26.218+0000 I CONTROL  [initandlisten] ** WARNING: Access control is not enabled for the database.\n",
            "2022-07-31T02:48:26.218+0000 I CONTROL  [initandlisten] **          Read and write access to data and configuration is unrestricted.\n",
            "2022-07-31T02:48:26.218+0000 I CONTROL  [initandlisten] \n",
            "> show dbs\u001b[3G\u001b[Jshow dbs\u001b[11G\n",
            "admin        0.000GB\n",
            "config       0.000GB\n",
            "db_akademik  0.000GB\n",
            "local        0.000GB\n",
            "> use db_akademik\u001b[3G\u001b[Juse db_akademik\u001b[18G\n",
            "switched to db db_akademik\n",
            "> db.dropDatabase()\u001b[3G\u001b[Jdb.dropDatabase()\u001b[20G\n",
            "{ \"dropped\" : \"db_akademik\", \"ok\" : 1 }\n",
            "> "
          ]
        }
      ],
      "source": [
        "!mongo"
      ]
    },
    {
      "cell_type": "markdown",
      "metadata": {
        "id": "3g8LNlkqs21A"
      },
      "source": [
        "# 2. Koneksi ke mongodb dengan python"
      ]
    },
    {
      "cell_type": "code",
      "execution_count": 4,
      "metadata": {
        "colab": {
          "base_uri": "https://localhost:8080/"
        },
        "id": "QmKJ6zEterCf",
        "outputId": "49b9cf2a-729d-43f7-a94d-879ab5bdee64"
      },
      "outputs": [
        {
          "output_type": "stream",
          "name": "stdout",
          "text": [
            "python sudah terhubung dengan mongodb\n"
          ]
        }
      ],
      "source": [
        "# cek list database, untuk mengetahui apakah mongodb sudah berhasil terinstall\n",
        "from pymongo import MongoClient\n",
        "client = MongoClient()\n",
        "if client:\n",
        "  print(\"python sudah terhubung dengan mongodb\")\n",
        "else:\n",
        "  print(\"gagal terhubung ke mongodb\")"
      ]
    },
    {
      "cell_type": "code",
      "execution_count": 5,
      "metadata": {
        "colab": {
          "base_uri": "https://localhost:8080/"
        },
        "id": "Pequ346BfAJs",
        "outputId": "a52a3100-3863-403b-a39c-e5c4c1da4467"
      },
      "outputs": [
        {
          "output_type": "execute_result",
          "data": {
            "text/plain": [
              "Database(MongoClient(host=['localhost:27017'], document_class=dict, tz_aware=False, connect=True), 'stat')"
            ]
          },
          "metadata": {},
          "execution_count": 5
        }
      ],
      "source": [
        "# cek detail koneksi client\n",
        "client.stat"
      ]
    },
    {
      "cell_type": "markdown",
      "source": [
        "## 2.1 Membuat database, collection dan insert satu data di mongodb dengan python"
      ],
      "metadata": {
        "id": "wXWzdckuh9dU"
      }
    },
    {
      "cell_type": "code",
      "execution_count": 6,
      "metadata": {
        "id": "306AoZCOYHR9"
      },
      "outputs": [],
      "source": [
        "from pymongo import MongoClient\n",
        "mongo_url = \"mongodb://localhost:27017/\"\n",
        "mongo_db = MongoClient(mongo_url)\n",
        "\n",
        "#create db\n",
        "db = mongo_db[\"db_akademik\"]\n",
        "\n",
        "#create collection\n",
        "coll = db.create_collection(\"mahasiswa\")\n",
        "\n",
        "#create document\n",
        "data = dict()\n",
        "\n",
        "data[\"nim\"] = 5184025\n",
        "data[\"nama\"] = \"ruhul\"\n",
        "\n",
        "x = coll.insert_one(data).inserted_id"
      ]
    },
    {
      "cell_type": "markdown",
      "source": [
        "## 2.2 Insert multi data di mongodb dengan python"
      ],
      "metadata": {
        "id": "YHqX3sf9iJRv"
      }
    },
    {
      "cell_type": "code",
      "source": [
        "#create document\n",
        "data = [\n",
        "    {\"nim\": 5183027, \"nama\": \"Sopian Alviana\"},\n",
        "    {\"nim\": 5183034, \"nama\": \"Defiana Arnaldy\"},\n",
        "    {\"nim\": 5183046, \"nama\": \"Agus Mulyana\"},\n",
        "]\n",
        "\n",
        "x = coll.insert_many(data)\n",
        "print(x.inserted_ids)"
      ],
      "metadata": {
        "colab": {
          "base_uri": "https://localhost:8080/"
        },
        "id": "HSFMdKIQ9FtL",
        "outputId": "46489b04-4c40-4e28-d2e8-586e53770216"
      },
      "execution_count": 9,
      "outputs": [
        {
          "output_type": "stream",
          "name": "stdout",
          "text": [
            "[ObjectId('62e62305e128410f019edf33'), ObjectId('62e62305e128410f019edf34'), ObjectId('62e62305e128410f019edf35')]\n"
          ]
        }
      ]
    },
    {
      "cell_type": "markdown",
      "source": [
        "## 2.3 Menampilkan isi data collection \"mahasiswa\""
      ],
      "metadata": {
        "id": "lMNaTmy3iP9r"
      }
    },
    {
      "cell_type": "code",
      "source": [
        "from pymongo import MongoClient\n",
        "\n",
        "if mongo_url:\n",
        "    db = mongo_db[\"db_akademik\"]\n",
        "    coll = db.get_collection(\"mahasiswa\")\n",
        "    isidata = list(coll.find())\n",
        "    for data in isidata:\n",
        "        print(\" nim: {},\\n nama: {}\".format(data[\"nim\"], data[\"nama\"]))\n",
        "else:\n",
        "    print(\"kode program tidak terhubung ke database\")"
      ],
      "metadata": {
        "colab": {
          "base_uri": "https://localhost:8080/"
        },
        "id": "DuxXNYcf77Rh",
        "outputId": "6127c134-5969-4d4a-d9ff-d64b278d1096"
      },
      "execution_count": 8,
      "outputs": [
        {
          "output_type": "stream",
          "name": "stdout",
          "text": [
            " nim: 5184025,\n",
            " nama: ruhul\n"
          ]
        }
      ]
    },
    {
      "cell_type": "markdown",
      "source": [
        "## 2.4 Menampilkan isi data collection \"mahasiswa\" dengan kondisi tertentu"
      ],
      "metadata": {
        "id": "Gjfw9RMlibI7"
      }
    },
    {
      "cell_type": "code",
      "source": [
        "query = coll.find({\"nim\": {\"$lt\": 5184025}})\n",
        "\n",
        "print(\"Data pelajar yang memiliki nim dibawah 5184025 adalah: \")\n",
        "for data in query:\n",
        "    print(data)"
      ],
      "metadata": {
        "colab": {
          "base_uri": "https://localhost:8080/"
        },
        "id": "CndHc3tn_NCl",
        "outputId": "9f3e6bd9-1d9a-427d-e6f7-c40477066351"
      },
      "execution_count": 11,
      "outputs": [
        {
          "output_type": "stream",
          "name": "stdout",
          "text": [
            "Data pelajar yang memiliki nim dibawah 5184025 adalah: \n",
            "{'_id': ObjectId('62e62305e128410f019edf33'), 'nim': 5183027, 'nama': 'Sopian Alviana'}\n",
            "{'_id': ObjectId('62e62305e128410f019edf34'), 'nim': 5183034, 'nama': 'Defiana Arnaldy'}\n",
            "{'_id': ObjectId('62e62305e128410f019edf35'), 'nim': 5183046, 'nama': 'Agus Mulyana'}\n"
          ]
        }
      ]
    },
    {
      "cell_type": "markdown",
      "source": [
        "## 2.5 Menampilkan isi data collection \"mahasiswa\" dengan kondisi terurut berdasarkan atribut khusus, misal dari urutan huruf awal->akhir, angka terkecil->terbesar, dan lain-lain"
      ],
      "metadata": {
        "id": "xeU4v6vxihiO"
      }
    },
    {
      "cell_type": "code",
      "source": [
        "query = coll.find().sort(\"nama\")\n",
        "\n",
        "print(\"Urutan nama pelajar berdasarkan awalan nama adalah: \")\n",
        "for data in query:\n",
        "    print(data)"
      ],
      "metadata": {
        "colab": {
          "base_uri": "https://localhost:8080/"
        },
        "id": "2SI_-PQK_8Gu",
        "outputId": "667e3cc4-653d-4422-a235-bf12d93257ce"
      },
      "execution_count": 12,
      "outputs": [
        {
          "output_type": "stream",
          "name": "stdout",
          "text": [
            "Urutan nama pelajar berdasarkan awalan nama adalah: \n",
            "{'_id': ObjectId('62e62305e128410f019edf35'), 'nim': 5183046, 'nama': 'Agus Mulyana'}\n",
            "{'_id': ObjectId('62e62305e128410f019edf34'), 'nim': 5183034, 'nama': 'Defiana Arnaldy'}\n",
            "{'_id': ObjectId('62e62305e128410f019edf33'), 'nim': 5183027, 'nama': 'Sopian Alviana'}\n",
            "{'_id': ObjectId('62e61ea7e128410f019edf32'), 'nim': 5184025, 'nama': 'ruhul'}\n"
          ]
        }
      ]
    },
    {
      "cell_type": "markdown",
      "source": [
        "## 2.6 Memperbaharui satu data di collection \"mahasiswa\""
      ],
      "metadata": {
        "id": "GkJVpzCXiyQr"
      }
    },
    {
      "cell_type": "code",
      "source": [
        "query = { \"nim\": 5184025}\n",
        "value = { \"$set\": { \"nama\": \"Ruhul Amin\" } }\n",
        "\n",
        "coll.update_one(query, value)\n",
        "\n",
        "#tampilkan nama \"mahasiswa\" yang sudah terupdate\n",
        "for x in coll.find():\n",
        "  print(x)"
      ],
      "metadata": {
        "colab": {
          "base_uri": "https://localhost:8080/"
        },
        "id": "IhTTYtCuAjrF",
        "outputId": "82b52964-4455-469c-a194-c91137c6a15c"
      },
      "execution_count": 13,
      "outputs": [
        {
          "output_type": "stream",
          "name": "stdout",
          "text": [
            "{'_id': ObjectId('62e61ea7e128410f019edf32'), 'nim': 5184025, 'nama': 'Ruhul Amin'}\n",
            "{'_id': ObjectId('62e62305e128410f019edf33'), 'nim': 5183027, 'nama': 'Sopian Alviana'}\n",
            "{'_id': ObjectId('62e62305e128410f019edf34'), 'nim': 5183034, 'nama': 'Defiana Arnaldy'}\n",
            "{'_id': ObjectId('62e62305e128410f019edf35'), 'nim': 5183046, 'nama': 'Agus Mulyana'}\n"
          ]
        }
      ]
    },
    {
      "cell_type": "markdown",
      "source": [
        "## 2.7 Memperbaharui multi data di collection \"mahasiswa\""
      ],
      "metadata": {
        "id": "aZhq2UEfi517"
      }
    },
    {
      "cell_type": "code",
      "source": [
        "query = { \"nim\": {\"$gt\": 5183034}}\n",
        "value = { \"$set\": { \"promotor\": \"Prof. Imas Sukaesih Sitanggang\"} }\n",
        "\n",
        "x = coll.update_many(query, value)\n",
        "\n",
        "#cek jumlah dokumen yang berhasil diperbaharui\n",
        "print(x.modified_count, \"Dokumen sudah diperbaharui.\")\n",
        "\n",
        "#tampilkan semua data dengan nim kurang dari 5183034 dan \n",
        "#menambahkan atribut \"promotor\" pada data tersebut\n",
        "for x in coll.find():\n",
        "  print(x)"
      ],
      "metadata": {
        "colab": {
          "base_uri": "https://localhost:8080/"
        },
        "id": "qFoFpujnCX66",
        "outputId": "e298f452-098b-434a-dfc0-9f9b0bde7fef"
      },
      "execution_count": 18,
      "outputs": [
        {
          "output_type": "stream",
          "name": "stdout",
          "text": [
            "2 Dokumen sudah diperbaharui.\n",
            "{'_id': ObjectId('62e61ea7e128410f019edf32'), 'nim': 5184025, 'nama': 'Ruhul Amin', 'promotor': 'Prof. Imas Sukaesih Sitanggang'}\n",
            "{'_id': ObjectId('62e62305e128410f019edf33'), 'nim': 5183027, 'nama': 'Sopian Alviana', 'promotor': 'Prof. Taufik Djatna'}\n",
            "{'_id': ObjectId('62e62305e128410f019edf34'), 'nim': 5183034, 'nama': 'Defiana Arnaldy'}\n",
            "{'_id': ObjectId('62e62305e128410f019edf35'), 'nim': 5183046, 'nama': 'Agus Mulyana', 'promotor': 'Prof. Imas Sukaesih Sitanggang'}\n"
          ]
        }
      ]
    },
    {
      "cell_type": "markdown",
      "source": [
        "## 2.8 Menghapus satu data pada collection \"mahasiswa\""
      ],
      "metadata": {
        "id": "CXPtU8R4jG0C"
      }
    },
    {
      "cell_type": "code",
      "source": [
        "query = {\"nim\": 5183034}\n",
        "coll.delete_one(query)\n",
        "\n",
        "for data in coll.find():\n",
        "    print(data)"
      ],
      "metadata": {
        "colab": {
          "base_uri": "https://localhost:8080/"
        },
        "id": "ChpwYJWqHpw3",
        "outputId": "18628719-1fdd-449a-d34d-734e02332560"
      },
      "execution_count": 19,
      "outputs": [
        {
          "output_type": "stream",
          "name": "stdout",
          "text": [
            "{'_id': ObjectId('62e61ea7e128410f019edf32'), 'nim': 5184025, 'nama': 'Ruhul Amin', 'promotor': 'Prof. Imas Sukaesih Sitanggang'}\n",
            "{'_id': ObjectId('62e62305e128410f019edf33'), 'nim': 5183027, 'nama': 'Sopian Alviana', 'promotor': 'Prof. Taufik Djatna'}\n",
            "{'_id': ObjectId('62e62305e128410f019edf35'), 'nim': 5183046, 'nama': 'Agus Mulyana', 'promotor': 'Prof. Imas Sukaesih Sitanggang'}\n"
          ]
        }
      ]
    },
    {
      "cell_type": "markdown",
      "source": [
        "## 2.9 Menghapus multi data pada collection \"mahasiswa\""
      ],
      "metadata": {
        "id": "e_H7d9aejRx5"
      }
    },
    {
      "cell_type": "code",
      "source": [
        "query = {\"nim\": {\"$gt\": 5183034}}\n",
        "\n",
        "x = coll.delete_many(query)\n",
        "\n",
        "print(x.deleted_count, \" dokumen terhapus.\")\n",
        "for x in coll.find():\n",
        "  print(x)"
      ],
      "metadata": {
        "colab": {
          "base_uri": "https://localhost:8080/"
        },
        "id": "aK4QgnZGIKI6",
        "outputId": "fde9e3e2-dcbd-4d3f-e268-c055e8fcd5fe"
      },
      "execution_count": 20,
      "outputs": [
        {
          "output_type": "stream",
          "name": "stdout",
          "text": [
            "2  dokumen terhapus.\n",
            "{'_id': ObjectId('62e62305e128410f019edf33'), 'nim': 5183027, 'nama': 'Sopian Alviana', 'promotor': 'Prof. Taufik Djatna'}\n"
          ]
        }
      ]
    },
    {
      "cell_type": "markdown",
      "metadata": {
        "id": "-xeA6svVfkG4"
      },
      "source": [
        "# 3. Operasi dasar manajemen database mongodb"
      ]
    },
    {
      "cell_type": "code",
      "execution_count": null,
      "metadata": {
        "colab": {
          "base_uri": "https://localhost:8080/"
        },
        "id": "geBUHLNBfspj",
        "outputId": "f416ca37-c991-4dff-b0d0-693ee4f0532d"
      },
      "outputs": [
        {
          "data": {
            "text/plain": [
              "['admin', 'config', 'local']"
            ]
          },
          "execution_count": 8,
          "metadata": {},
          "output_type": "execute_result"
        }
      ],
      "source": [
        "# perintah untuk menampilkan database yang sudah ada\n",
        "client.list_database_names()"
      ]
    },
    {
      "cell_type": "code",
      "execution_count": null,
      "metadata": {
        "colab": {
          "base_uri": "https://localhost:8080/"
        },
        "id": "MKduzYNKf46z",
        "outputId": "032be843-c58f-4773-f473-21dfa0fff803"
      },
      "outputs": [
        {
          "data": {
            "text/plain": [
              "['admin', 'config', 'local']"
            ]
          },
          "execution_count": 13,
          "metadata": {},
          "output_type": "execute_result"
        }
      ],
      "source": [
        "# perintah untuk menggunakan database tertentu, apabila belum ada database dengan\n",
        "# nama tersebut maka perintah ini akan mengeksekusi untuk membuat database dengan\n",
        "# nama sesuai masukkan\n",
        "db = client.db_akademik\n",
        "client.list_database_names()"
      ]
    },
    {
      "cell_type": "code",
      "execution_count": null,
      "metadata": {
        "colab": {
          "base_uri": "https://localhost:8080/"
        },
        "id": "ctIKwivfgVxG",
        "outputId": "1ca4ee59-1d11-4ddf-e236-5c1d80fdff54"
      },
      "outputs": [
        {
          "data": {
            "text/plain": [
              "['admin', 'config', 'local']"
            ]
          },
          "execution_count": 11,
          "metadata": {},
          "output_type": "execute_result"
        }
      ],
      "source": [
        "# perintah untuk menghapus database\n",
        "client.drop_database('db_akademik')\n",
        "client.list_database_names()"
      ]
    },
    {
      "cell_type": "markdown",
      "metadata": {
        "id": "q245s0vOhA33"
      },
      "source": [
        "# 4. Operasi dasar manajemen collection"
      ]
    },
    {
      "cell_type": "code",
      "execution_count": null,
      "metadata": {
        "colab": {
          "base_uri": "https://localhost:8080/"
        },
        "id": "OdkskDMShFGM",
        "outputId": "7e0cd5b2-42b2-4052-86fc-60a3d6cd7365"
      },
      "outputs": [
        {
          "data": {
            "text/plain": [
              "[{'idIndex': {'key': {'_id': 1},\n",
              "   'name': '_id_',\n",
              "   'ns': 'db_akademik.pengambilanmk',\n",
              "   'v': 2},\n",
              "  'info': {'readOnly': False,\n",
              "   'uuid': Binary(b'\\x16\\xa93\\x83\\x16\\xe6L\\xe2\\xba\\x88\\x10\\x93\\xdd\\xb8\\x12c', 4)},\n",
              "  'name': 'pengambilanmk',\n",
              "  'options': {},\n",
              "  'type': 'collection'},\n",
              " {'idIndex': {'key': {'_id': 1},\n",
              "   'name': '_id_',\n",
              "   'ns': 'db_akademik.mahasiswa',\n",
              "   'v': 2},\n",
              "  'info': {'readOnly': False,\n",
              "   'uuid': Binary(b'3H}\\xff\\x80/E\\xb5\\x83\\x0ej\\x8emIn*', 4)},\n",
              "  'name': 'mahasiswa',\n",
              "  'options': {},\n",
              "  'type': 'collection'},\n",
              " {'idIndex': {'key': {'_id': 1},\n",
              "   'name': '_id_',\n",
              "   'ns': 'db_akademik.mhs',\n",
              "   'v': 2},\n",
              "  'info': {'readOnly': False,\n",
              "   'uuid': Binary(b'\\x9a9\\x13\\xc9E\\x1dB4\\x98\\xfdJbO\\x17\\xb1\\x1b', 4)},\n",
              "  'name': 'mhs',\n",
              "  'options': {},\n",
              "  'type': 'collection'},\n",
              " {'idIndex': {'key': {'_id': 1},\n",
              "   'name': '_id_',\n",
              "   'ns': 'db_akademik.matakuliah',\n",
              "   'v': 2},\n",
              "  'info': {'readOnly': False,\n",
              "   'uuid': Binary(b'q\\xd5hg\\xe6DA\\xd8\\x92u}\\x12\\x91\\x0b\\xd9G', 4)},\n",
              "  'name': 'matakuliah',\n",
              "  'options': {},\n",
              "  'type': 'collection'}]"
            ]
          },
          "execution_count": 53,
          "metadata": {},
          "output_type": "execute_result"
        }
      ],
      "source": [
        "# perintah untuk membuat collection\n",
        "db.create_collection('mahasiswa')\n",
        "db.create_collection('matakuliah')\n",
        "db.create_collection('pengambilanmk')\n",
        "list(db.list_collections())"
      ]
    },
    {
      "cell_type": "code",
      "execution_count": null,
      "metadata": {
        "colab": {
          "base_uri": "https://localhost:8080/"
        },
        "id": "oryxq5XBlDpP",
        "outputId": "c6a8065e-ef54-44f0-a419-f9e38b0e8c46"
      },
      "outputs": [
        {
          "data": {
            "text/plain": [
              "[{'_id': ObjectId('62e2c6113c002fc09f650884'),\n",
              "  'nama': 'Ruhul Amin',\n",
              "  'nim': 5184025}]"
            ]
          },
          "execution_count": 54,
          "metadata": {},
          "output_type": "execute_result"
        }
      ],
      "source": [
        "# perintah untuk memasukkan satu data ke collection mahasiswa\n",
        "coll = db.mahasiswa\n",
        "coll.insert_one({\"nim\": 5184025, \"nama\": \"Ruhul Amin\"})\n",
        "list(coll.find())"
      ]
    },
    {
      "cell_type": "code",
      "execution_count": null,
      "metadata": {
        "colab": {
          "base_uri": "https://localhost:8080/"
        },
        "id": "HAHlXMfrmify",
        "outputId": "810bb0dd-3ef1-449c-f687-64b445a346d9"
      },
      "outputs": [
        {
          "data": {
            "text/plain": [
              "[{'_id': ObjectId('62e2c6113c002fc09f650884'),\n",
              "  'nama': 'Ruhul Amin',\n",
              "  'nim': 5184025},\n",
              " {'_id': ObjectId('62e2c61c3c002fc09f650885'),\n",
              "  'nama': 'Sopian',\n",
              "  'nim': 5183027},\n",
              " {'_id': ObjectId('62e2c61c3c002fc09f650886'),\n",
              "  'nama': 'Triawan',\n",
              "  'nim': 5184088},\n",
              " {'_id': ObjectId('62e2c61c3c002fc09f650887'),\n",
              "  'nama': 'Sapto Budi ',\n",
              "  'nim': 5184097}]"
            ]
          },
          "execution_count": 55,
          "metadata": {},
          "output_type": "execute_result"
        }
      ],
      "source": [
        "# perintah untuk memasukkan lebih dari satu data ke collection\n",
        "coll = db.mahasiswa\n",
        "coll.insert_many([{\"nim\": 5183027, \"nama\": \"Sopian\"}, # kalau lebih dari satu record wajib berbentuk list\n",
        "                  {\"nim\": 5184088, \"nama\": \"Triawan\"}, \n",
        "                  {\"nim\": 5184097, \"nama\": \"Sapto Budi \"}\n",
        "                  ])\n",
        "list(coll.find())"
      ]
    },
    {
      "cell_type": "code",
      "execution_count": null,
      "metadata": {
        "colab": {
          "base_uri": "https://localhost:8080/"
        },
        "id": "ZMY1NOFOnn3r",
        "outputId": "f9a83071-3240-4eb5-a3c8-99e31e994f1c"
      },
      "outputs": [
        {
          "data": {
            "text/plain": [
              "[{'idIndex': {'key': {'_id': 1},\n",
              "   'name': '_id_',\n",
              "   'ns': 'db_akademik.pengambilanmk',\n",
              "   'v': 2},\n",
              "  'info': {'readOnly': False,\n",
              "   'uuid': Binary(b'\\x16\\xa93\\x83\\x16\\xe6L\\xe2\\xba\\x88\\x10\\x93\\xdd\\xb8\\x12c', 4)},\n",
              "  'name': 'pengambilanmk',\n",
              "  'options': {},\n",
              "  'type': 'collection'},\n",
              " {'idIndex': {'key': {'_id': 1},\n",
              "   'name': '_id_',\n",
              "   'ns': 'db_akademik.mhs',\n",
              "   'v': 2},\n",
              "  'info': {'readOnly': False,\n",
              "   'uuid': Binary(b'3H}\\xff\\x80/E\\xb5\\x83\\x0ej\\x8emIn*', 4)},\n",
              "  'name': 'mhs',\n",
              "  'options': {},\n",
              "  'type': 'collection'},\n",
              " {'idIndex': {'key': {'_id': 1},\n",
              "   'name': '_id_',\n",
              "   'ns': 'db_akademik.matakuliah',\n",
              "   'v': 2},\n",
              "  'info': {'readOnly': False,\n",
              "   'uuid': Binary(b'q\\xd5hg\\xe6DA\\xd8\\x92u}\\x12\\x91\\x0b\\xd9G', 4)},\n",
              "  'name': 'matakuliah',\n",
              "  'options': {},\n",
              "  'type': 'collection'}]"
            ]
          },
          "execution_count": 58,
          "metadata": {},
          "output_type": "execute_result"
        }
      ],
      "source": [
        "# mengubah nama collection\n",
        "db.mahasiswa.rename('mhs')\n",
        "coll = db.mhs                           # Set the collection to work with\n",
        "list(db.list_collections())                  # Show the existing collections"
      ]
    },
    {
      "cell_type": "code",
      "execution_count": null,
      "metadata": {
        "colab": {
          "base_uri": "https://localhost:8080/"
        },
        "id": "lE1lE2UkkfkF",
        "outputId": "d4e50fa2-d80b-47df-cdf1-ee9b7526626a"
      },
      "outputs": [
        {
          "data": {
            "text/plain": [
              "{'nIndexesWas': 1, 'ns': 'db_akademik.pengambilanmk', 'ok': 1.0}"
            ]
          },
          "execution_count": 26,
          "metadata": {},
          "output_type": "execute_result"
        }
      ],
      "source": [
        "# hapus collection\n",
        "db.drop_collection('pengambilanmk')"
      ]
    },
    {
      "cell_type": "markdown",
      "metadata": {
        "id": "YbLauer2s_xL"
      },
      "source": [
        "# 5. Operasi dasar collection"
      ]
    },
    {
      "cell_type": "markdown",
      "metadata": {
        "id": "au2scL0MwEkY"
      },
      "source": [
        "## 5.1 Operasi Create"
      ]
    },
    {
      "cell_type": "code",
      "execution_count": null,
      "metadata": {
        "id": "fuD6wjfQuFdr"
      },
      "outputs": [],
      "source": [
        "# membuat dokumen dengan insert_one dan javascript notation\n",
        "#@title Dokumen Mahasiswa\n",
        "\n",
        "Nim = 5184040 #@param {type: \"integer\"}\n",
        "Nama = \"Fahmi\" #@param {type:\"string\"}\n"
      ]
    },
    {
      "cell_type": "code",
      "execution_count": null,
      "metadata": {
        "id": "xPDXBEClvIY8"
      },
      "outputs": [],
      "source": [
        "# memasukkan atribut/variabel tersebut ke collection\n",
        "data = {\"nim\": Nim,\n",
        "        \"nama\": Nama}\n",
        "insertdata = coll.insert_one(data)"
      ]
    },
    {
      "cell_type": "code",
      "execution_count": null,
      "metadata": {
        "colab": {
          "base_uri": "https://localhost:8080/"
        },
        "id": "cXR-zXUPvvtE",
        "outputId": "46ff57d4-cea3-46d8-d9e5-11c53ec09d18"
      },
      "outputs": [
        {
          "data": {
            "text/plain": [
              "True"
            ]
          },
          "execution_count": 30,
          "metadata": {},
          "output_type": "execute_result"
        }
      ],
      "source": [
        "# konfirmasi apakah berhasil \n",
        "insertdata.acknowledged"
      ]
    },
    {
      "cell_type": "code",
      "execution_count": null,
      "metadata": {
        "colab": {
          "base_uri": "https://localhost:8080/"
        },
        "id": "8e6fC-92v2c0",
        "outputId": "048d5259-1d6a-40d1-94cb-3e195bc731e9"
      },
      "outputs": [
        {
          "data": {
            "text/plain": [
              "ObjectId('62e2c65e3c002fc09f650888')"
            ]
          },
          "execution_count": 60,
          "metadata": {},
          "output_type": "execute_result"
        }
      ],
      "source": [
        "# menampilkan id dokumen\n",
        "insertdata.inserted_id"
      ]
    },
    {
      "cell_type": "markdown",
      "metadata": {
        "id": "eHXa7qBBwIIU"
      },
      "source": [
        "## 5.2 Operasi Read"
      ]
    },
    {
      "cell_type": "code",
      "execution_count": null,
      "metadata": {
        "colab": {
          "base_uri": "https://localhost:8080/"
        },
        "id": "PYWRA2qCwKZs",
        "outputId": "93303720-7723-47a9-f9f4-d28bd1a098fd"
      },
      "outputs": [
        {
          "data": {
            "text/plain": [
              "[{'_id': ObjectId('62e2c6113c002fc09f650884'),\n",
              "  'nama': 'Ruhul Amin',\n",
              "  'nim': 5184025},\n",
              " {'_id': ObjectId('62e2c61c3c002fc09f650885'),\n",
              "  'nama': 'Sopian',\n",
              "  'nim': 5183027},\n",
              " {'_id': ObjectId('62e2c61c3c002fc09f650886'),\n",
              "  'nama': 'Triawan',\n",
              "  'nim': 5184088},\n",
              " {'_id': ObjectId('62e2c61c3c002fc09f650887'),\n",
              "  'nama': 'Sapto Budi ',\n",
              "  'nim': 5184097},\n",
              " {'_id': ObjectId('62e2c65e3c002fc09f650888'),\n",
              "  'nama': 'Fahmi ',\n",
              "  'nim': 5184040}]"
            ]
          },
          "execution_count": 61,
          "metadata": {},
          "output_type": "execute_result"
        }
      ],
      "source": [
        "# menampilkan/membaca isi collection\n",
        "list(coll.find())"
      ]
    },
    {
      "cell_type": "code",
      "execution_count": null,
      "metadata": {
        "colab": {
          "base_uri": "https://localhost:8080/"
        },
        "id": "bfUKf66S12RL",
        "outputId": "693b6d08-ad2d-4d61-8885-daf9404f261f"
      },
      "outputs": [
        {
          "data": {
            "text/plain": [
              "[{'_id': ObjectId('62e2c65e3c002fc09f650888'),\n",
              "  'nama': 'Fahmi ',\n",
              "  'nim': 5184040}]"
            ]
          },
          "execution_count": 62,
          "metadata": {},
          "output_type": "execute_result"
        }
      ],
      "source": [
        "# menampilkan data berdasarkan dokumen id tertentu\n",
        "list(coll.find({'_id': insertdata.inserted_id }))"
      ]
    },
    {
      "cell_type": "code",
      "execution_count": null,
      "metadata": {
        "colab": {
          "base_uri": "https://localhost:8080/"
        },
        "id": "BU_qpxCI2MP7",
        "outputId": "439425b5-33fd-4dab-b4c3-0fed70d1f878"
      },
      "outputs": [
        {
          "data": {
            "text/plain": [
              "[{'_id': ObjectId('62e2c65e3c002fc09f650888'),\n",
              "  'nama': 'Fahmi ',\n",
              "  'nim': 5184040}]"
            ]
          },
          "execution_count": 63,
          "metadata": {},
          "output_type": "execute_result"
        }
      ],
      "source": [
        "# menampilkan data berdasarkan atribut/field \"Nim\"\n",
        "list(coll.find({'nim': Nim}))"
      ]
    },
    {
      "cell_type": "code",
      "execution_count": null,
      "metadata": {
        "colab": {
          "base_uri": "https://localhost:8080/"
        },
        "id": "CWUapUeh2au7",
        "outputId": "8ae99e78-863d-4082-d9a1-e2576960e9c5"
      },
      "outputs": [
        {
          "data": {
            "text/plain": [
              "[{'_id': ObjectId('62e2c65e3c002fc09f650888'),\n",
              "  'nama': 'Fahmi ',\n",
              "  'nim': 5184040}]"
            ]
          },
          "execution_count": 66,
          "metadata": {},
          "output_type": "execute_result"
        }
      ],
      "source": [
        "# menampilkan data berdasarkan atribut/field \"Nama\"\n",
        "list(coll.find({'nama': Nama}))"
      ]
    },
    {
      "cell_type": "code",
      "execution_count": null,
      "metadata": {
        "colab": {
          "base_uri": "https://localhost:8080/"
        },
        "id": "Gwx-2HwL2sKC",
        "outputId": "750dca51-ceae-4abc-af4f-153f204d413e"
      },
      "outputs": [
        {
          "data": {
            "text/plain": [
              "[{'_id': ObjectId('62e2c6113c002fc09f650884'),\n",
              "  'nama': 'Ruhul Amin',\n",
              "  'nim': 5184025},\n",
              " {'_id': ObjectId('62e2c61c3c002fc09f650885'),\n",
              "  'nama': 'Sopian',\n",
              "  'nim': 5183027}]"
            ]
          },
          "execution_count": 67,
          "metadata": {},
          "output_type": "execute_result"
        }
      ],
      "source": [
        "# menampilkan data dengan jumlah yang dibatasi sesuai keinginan, misal: 2\n",
        "list(coll.find().limit(2)) "
      ]
    },
    {
      "cell_type": "code",
      "execution_count": null,
      "metadata": {
        "colab": {
          "base_uri": "https://localhost:8080/"
        },
        "id": "73JbYtJN29mI",
        "outputId": "e1119c23-92b4-4a6c-806c-08252cd6e9cd"
      },
      "outputs": [
        {
          "data": {
            "text/plain": [
              "[{'_id': ObjectId('62e2c61c3c002fc09f650885'),\n",
              "  'nama': 'Sopian',\n",
              "  'nim': 5183027},\n",
              " {'_id': ObjectId('62e2c61c3c002fc09f650886'),\n",
              "  'nama': 'Triawan',\n",
              "  'nim': 5184088},\n",
              " {'_id': ObjectId('62e2c61c3c002fc09f650887'),\n",
              "  'nama': 'Sapto Budi ',\n",
              "  'nim': 5184097},\n",
              " {'_id': ObjectId('62e2c65e3c002fc09f650888'),\n",
              "  'nama': 'Fahmi ',\n",
              "  'nim': 5184040}]"
            ]
          },
          "execution_count": 68,
          "metadata": {},
          "output_type": "execute_result"
        }
      ],
      "source": [
        "# menampilkan data dengan melewati data pada posisi tertentu, misal: posisi ke 1 (indeks ke 0) dilewati\n",
        "list(coll.find().skip(1)) # tidak ada nama \"ruhul amin\" yang tampil"
      ]
    },
    {
      "cell_type": "markdown",
      "metadata": {
        "id": "U3v1_to53QiN"
      },
      "source": [
        "## 5.3 Operasi Update"
      ]
    },
    {
      "cell_type": "code",
      "execution_count": null,
      "metadata": {
        "colab": {
          "base_uri": "https://localhost:8080/"
        },
        "id": "-BoErQFx3TyD",
        "outputId": "4ec39094-9104-46ed-d0ed-054bc03f3139"
      },
      "outputs": [
        {
          "data": {
            "text/plain": [
              "[{'_id': ObjectId('62e2c65e3c002fc09f650888'),\n",
              "  'nama': 'Fahmi ',\n",
              "  'nim': 5184040,\n",
              "  'usia': 30}]"
            ]
          },
          "execution_count": 69,
          "metadata": {},
          "output_type": "execute_result"
        }
      ],
      "source": [
        "## update data yang sudah ada di collection\n",
        "updatedata = coll.update_one( \n",
        "    {'nama': Nama}, \n",
        "    {'$set': { 'usia': 30 }} \n",
        "    ) \n",
        "\n",
        "list(coll.find({'nama': Nama }))"
      ]
    },
    {
      "cell_type": "code",
      "execution_count": null,
      "metadata": {
        "colab": {
          "base_uri": "https://localhost:8080/"
        },
        "id": "Qg8unm7i32J9",
        "outputId": "83721552-7b76-4971-94bc-92fed7883f36"
      },
      "outputs": [
        {
          "data": {
            "text/plain": [
              "{'_id': ObjectId('62e2c65e3c002fc09f650888'),\n",
              " 'nama': 'Fahmi ',\n",
              " 'nim': 5184040,\n",
              " 'usia': 31}"
            ]
          },
          "execution_count": 71,
          "metadata": {},
          "output_type": "execute_result"
        }
      ],
      "source": [
        "# selain menggunakan perintah diatas, update data bisa juga menggunakan perintah seperti berikut ini\n",
        "coll.find_one_and_update({'nama': Nama}, {'$set': {'usia': 31}})"
      ]
    },
    {
      "cell_type": "code",
      "execution_count": null,
      "metadata": {
        "colab": {
          "base_uri": "https://localhost:8080/"
        },
        "id": "017J2xV04XV-",
        "outputId": "e43c73ee-3365-4460-f9ea-285bb692a04a"
      },
      "outputs": [
        {
          "data": {
            "text/plain": [
              "{'n': 1, 'nModified': 1, 'ok': 1.0, 'updatedExisting': True}"
            ]
          },
          "execution_count": 72,
          "metadata": {},
          "output_type": "execute_result"
        }
      ],
      "source": [
        "# cek apakah data berhasil berubah/update atau tidak\n",
        "updatedata.raw_result"
      ]
    },
    {
      "cell_type": "markdown",
      "metadata": {
        "id": "obhVa2CcSb1S"
      },
      "source": [
        "## 5.4 Operasi Delete"
      ]
    },
    {
      "cell_type": "code",
      "execution_count": 21,
      "metadata": {
        "id": "DIV_P5IeSeEJ",
        "colab": {
          "base_uri": "https://localhost:8080/"
        },
        "outputId": "11ffa912-ada9-407c-cf2d-36706400a81e"
      },
      "outputs": [
        {
          "output_type": "execute_result",
          "data": {
            "text/plain": [
              "[{'_id': ObjectId('62e62305e128410f019edf33'),\n",
              "  'nama': 'Sopian Alviana',\n",
              "  'nim': 5183027,\n",
              "  'promotor': 'Prof. Taufik Djatna'}]"
            ]
          },
          "metadata": {},
          "execution_count": 21
        }
      ],
      "source": [
        "coll.delete_one({\"nama\": \"Fahmi\"})\n",
        "list(coll.find())"
      ]
    }
  ],
  "metadata": {
    "colab": {
      "collapsed_sections": [],
      "name": "Python dan MongoDB.ipynb",
      "provenance": []
    },
    "kernelspec": {
      "display_name": "Python 3",
      "name": "python3"
    },
    "language_info": {
      "name": "python"
    }
  },
  "nbformat": 4,
  "nbformat_minor": 0
}