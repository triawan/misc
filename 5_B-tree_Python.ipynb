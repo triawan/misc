{
  "cells": [
    {
      "cell_type": "markdown",
      "metadata": {
        "id": "DGNv_CCpXJYG"
      },
      "source": [
        "**B-tree Properties**\n",
        "\n",
        "1. Setiap node/simpul x, kunci disimpan dalam urutan meningkat.\n",
        "2. Setiap node terdapat nilai boolean x.leaf yang bernilai true jika x adalah sebuah leaf.\n",
        "3. Jika n adalah urutan tree, setiap node internal dapat berisi data kunci paling banyak sejumlah n-1 dengan pointer ke setiap node child.\n",
        "4. Setiap node kecuali root dapat memiliki paling banyak n node child dan paling sedikit n/2 node child.\n",
        "5. Semua node leaf memiliki kedalaman yang sama.\n",
        "6. Root memiliki minimal 2 node anak dan berisi minimal 1 kunci.\n",
        "7. Jika n ≥ 1, maka untuk n-key B-tree dengan tinggi h berapapun dan derajat minimum t≥2, dengan nilai h≥ logt (n+1)/2\n",
        "\n",
        "Sumber kode program berasal dari kompilasi di internet"
      ]
    },
    {
      "cell_type": "code",
      "execution_count": null,
      "metadata": {
        "colab": {
          "base_uri": "https://localhost:8080/"
        },
        "id": "ExpxAtb8awjm",
        "outputId": "b19efa62-cbd5-4d73-9d4a-e9334fcb4114"
      },
      "outputs": [
        {
          "name": "stdout",
          "output_type": "stream",
          "text": [
            "Level  0   2:(2, 4) (5, 10) \n",
            "Level  1   2:(0, 0) (1, 2) \n",
            "Level  1   2:(3, 6) (4, 8) \n",
            "Level  1   4:(6, 12) (7, 14) (8, 16) (9, 18) \n"
          ]
        }
      ],
      "source": [
        "class BTreeNode:\n",
        "  def __init__(self, leaf=False):\n",
        "    self.leaf = leaf\n",
        "    self.keys = []\n",
        "    self.child = []\n",
        "\n",
        "class BTree:\n",
        "  def __init__(self, t):\n",
        "    self.root = BTreeNode(True)\n",
        "    self.t = t\n",
        "\n",
        "  def insert(self, k):\n",
        "    root = self.root\n",
        "    if len(root.keys) == (2 * self.t) - 1:\n",
        "      temp = BTreeNode()\n",
        "      self.root = temp\n",
        "      temp.child.insert(0, root)\n",
        "      self.split_child(temp, 0)\n",
        "      self.insert_non_full(temp, k)\n",
        "    else:\n",
        "      self.insert_non_full(root, k)\n",
        "\n",
        "  def insert_non_full(self, x, k):\n",
        "    i = len(x.keys) - 1\n",
        "    if x.leaf:\n",
        "      x.keys.append((None, None))\n",
        "      while i >= 0 and k[0] < x.keys[i][0]:\n",
        "        x.keys[i + 1] = x.keys[i]\n",
        "        i -= 1\n",
        "      x.keys[i + 1] = k\n",
        "    else:\n",
        "      while i >= 0 and k[0] < x.keys[i][0]:\n",
        "        i -= 1\n",
        "      i += 1\n",
        "      if len(x.child[i].keys) == (2 * self.t) - 1:\n",
        "        self.split_child(x, i)\n",
        "        if k[0] > x.keys[i][0]:\n",
        "          i += 1\n",
        "      self.insert_non_full(x.child[i], k)\n",
        "\n",
        "  def split_child(self, x, i):\n",
        "    t = self.t\n",
        "    y = x.child[i]\n",
        "    z = BTreeNode(y.leaf)\n",
        "    x.child.insert(i + 1, z)\n",
        "    x.keys.insert(i, y.keys[t - 1])\n",
        "    z.keys = y.keys[t: (2 * t) - 1]\n",
        "    y.keys = y.keys[0: t - 1]\n",
        "    if not y.leaf:\n",
        "      z.child = y.child[t: 2 * t]\n",
        "      y.child = y.child[0: t - 1]\n",
        "\n",
        "  def print_tree(self, x, l=0):\n",
        "    print(\"Level \", l, \" \", len(x.keys), end=\":\")\n",
        "    for i in x.keys:\n",
        "      print(i, end=\" \")\n",
        "    print()\n",
        "    l += 1\n",
        "    if len(x.child) > 0:\n",
        "      for i in x.child:\n",
        "        self.print_tree(i, l)\n",
        "\n",
        "  #def search_key(self, k, x=None):\n",
        "  #  if x is not None:\n",
        "  #    i = 0\n",
        "  #    while i < len(x.keys) and k > x.keys[i][0]:\n",
        "  #      i += 1\n",
        "  #    if i < len(x.keys) and k == x.keys[i][0]:\n",
        "  #      return (x, i)\n",
        "  #    elif x.leaf:\n",
        "  #      return None\n",
        "  #    else:\n",
        "  #      return self.search_key(k, x.child[i])\n",
        "      \n",
        "  #  else:\n",
        "  #    return self.search_key(k, self.root)\n",
        "\n",
        "\n",
        "def main():\n",
        "  B = BTree(3)\n",
        "\n",
        "  for i in range(10):\n",
        "    B.insert((i, 2 * i))\n",
        "\n",
        "  B.print_tree(B.root)\n",
        "\n",
        "  #if B.search_key(10) is not None:\n",
        "  #  print(\"\\nFound\")\n",
        "  #else:\n",
        "  #  print(\"\\nNot Found\")\n",
        "\n",
        "\n",
        "if __name__ == '__main__':\n",
        "  main()"
      ]
    }
  ],
  "metadata": {
    "colab": {
      "name": "Progress 9 Juni 2022.ipynb",
      "provenance": []
    },
    "kernelspec": {
      "display_name": "Python 3.10.6 ('venv': venv)",
      "language": "python",
      "name": "python3"
    },
    "language_info": {
      "name": "python",
      "version": "3.10.6"
    },
    "vscode": {
      "interpreter": {
        "hash": "8ad2652848c7810ca778e310c65c1b798580f80007b377ba99a88c2e6e3d79f9"
      }
    }
  },
  "nbformat": 4,
  "nbformat_minor": 0
}
